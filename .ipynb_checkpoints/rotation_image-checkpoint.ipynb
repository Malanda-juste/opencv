{
 "cells": [
  {
   "cell_type": "code",
   "execution_count": 1,
   "id": "383fb936",
   "metadata": {},
   "outputs": [],
   "source": [
    "import cv2\n",
    "import numpy as np"
   ]
  },
  {
   "cell_type": "code",
   "execution_count": 6,
   "id": "a13daee6",
   "metadata": {},
   "outputs": [],
   "source": [
    "img = cv2.imread(\"./data/lena.jpeg\")\n",
    "\n",
    "h, w, c = img.shape\n",
    "\n",
    "rot = cv2.getRotationMatrix2D((w/2, h/2), 180, 1)\n",
    "img_rot= cv2.warpAffine(img, rot, (img.shape[0], img.shape[1]))\n",
    "\n",
    "cv2.imshow('img', img)\n",
    "cv2.imshow(\"rotation\", img_rot)\n",
    "\n",
    "\n",
    "\n",
    "cv2.waitKey()\n",
    "cv2.destroyAllWindows()"
   ]
  },
  {
   "cell_type": "code",
   "execution_count": null,
   "id": "1578e0f6",
   "metadata": {},
   "outputs": [],
   "source": []
  }
 ],
 "metadata": {
  "kernelspec": {
   "display_name": "Python 3 (ipykernel)",
   "language": "python",
   "name": "python3"
  },
  "language_info": {
   "codemirror_mode": {
    "name": "ipython",
    "version": 3
   },
   "file_extension": ".py",
   "mimetype": "text/x-python",
   "name": "python",
   "nbconvert_exporter": "python",
   "pygments_lexer": "ipython3",
   "version": "3.10.9"
  }
 },
 "nbformat": 4,
 "nbformat_minor": 5
}
