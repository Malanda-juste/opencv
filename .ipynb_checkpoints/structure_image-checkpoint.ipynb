{
 "cells": [
  {
   "cell_type": "code",
   "execution_count": 1,
   "id": "062f8dc1",
   "metadata": {},
   "outputs": [],
   "source": [
    "import cv2\n",
    "import numpy as np"
   ]
  },
  {
   "cell_type": "code",
   "execution_count": 2,
   "id": "c704e9e9",
   "metadata": {},
   "outputs": [
    {
     "name": "stdout",
     "output_type": "stream",
     "text": [
      "type de l'image <class 'numpy.ndarray'>\n",
      "la taille : 185\n",
      "dimension : (185, 273, 3) \n",
      "\n",
      "type de variable :  uint8\n",
      "3\n",
      "[91 63 29]\n",
      "img size : 151515\n",
      "[[91 91 93 ... 86 89 79]\n",
      " [91 91 92 ... 84 86 80]\n",
      " [92 92 92 ... 79 80 79]\n",
      " ...\n",
      " [10 22 19 ...  2  0  9]\n",
      " [22  8 19 ...  3 12 32]\n",
      " [10  0  7 ...  7 11 27]]\n"
     ]
    }
   ],
   "source": [
    "img = cv2.imread(\"./data/tourEfel.jpeg\",1)\n",
    "\n",
    "print(\"type de l'image\", type(img))\n",
    "print(\"la taille :\", len(img))\n",
    "print(\"dimension :\", img.shape, \"\\n\")\n",
    "\n",
    "      \n",
    "print(\"type de variable : \", img.dtype)\n",
    "print(len(img[0][0]))\n",
    "print(img[0][0])\n",
    "print(\"img size :\", img.size)\n",
    "print(img[:,:,0])"
   ]
  },
  {
   "cell_type": "code",
   "execution_count": 4,
   "id": "5a4ae78d",
   "metadata": {},
   "outputs": [
    {
     "name": "stdout",
     "output_type": "stream",
     "text": [
      "[0]\n",
      "[0 0 0]\n"
     ]
    }
   ],
   "source": [
    "blak_1 = np.zeros([128, 255, 1], 'uint8')\n",
    "cv2.imshow(\"blak_1\", blak_1 )\n",
    "print(blak_1[0,0,:])\n",
    "\n",
    "blak_2 = np.zeros([130, 345, 3], 'uint8')\n",
    "cv2.imshow(\"blak_2\", blak_2 )\n",
    "print(blak_2[0,0,:])\n",
    "\n",
    "cv2.waitKey(0)\n",
    "cv2.destroyAllWindows()"
   ]
  },
  {
   "cell_type": "code",
   "execution_count": null,
   "id": "21b08eab",
   "metadata": {},
   "outputs": [],
   "source": []
  }
 ],
 "metadata": {
  "kernelspec": {
   "display_name": "Python 3 (ipykernel)",
   "language": "python",
   "name": "python3"
  },
  "language_info": {
   "codemirror_mode": {
    "name": "ipython",
    "version": 3
   },
   "file_extension": ".py",
   "mimetype": "text/x-python",
   "name": "python",
   "nbconvert_exporter": "python",
   "pygments_lexer": "ipython3",
   "version": "3.10.9"
  }
 },
 "nbformat": 4,
 "nbformat_minor": 5
}
