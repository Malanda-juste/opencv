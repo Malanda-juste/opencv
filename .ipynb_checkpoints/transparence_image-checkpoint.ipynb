{
 "cells": [
  {
   "cell_type": "code",
   "execution_count": 1,
   "id": "aaefe197",
   "metadata": {},
   "outputs": [],
   "source": [
    "import cv2\n",
    "import numpy as np"
   ]
  },
  {
   "cell_type": "code",
   "execution_count": 3,
   "id": "543778ec",
   "metadata": {},
   "outputs": [
    {
     "name": "stdout",
     "output_type": "stream",
     "text": [
      "(220, 220, 3)\n"
     ]
    }
   ],
   "source": [
    "img = cv2.imread(\"./data/lena.jpeg\", 1)\n",
    "print(img.shape)"
   ]
  },
  {
   "cell_type": "code",
   "execution_count": 4,
   "id": "495285bd",
   "metadata": {},
   "outputs": [],
   "source": [
    "img_gris =cv2.cvtColor(img, cv2.COLOR_RGB2GRAY)"
   ]
  },
  {
   "cell_type": "code",
   "execution_count": 5,
   "id": "c750d8a6",
   "metadata": {},
   "outputs": [],
   "source": [
    "cv2.imshow(\"origine\", img)\n",
    "cv2.imshow(\"gris\", img_gris)\n",
    "\n",
    "cv2.waitKey(0)\n",
    "cv2.destroyAllWindows()"
   ]
  },
  {
   "cell_type": "code",
   "execution_count": 8,
   "id": "2dc7ac23",
   "metadata": {},
   "outputs": [
    {
     "data": {
      "text/plain": [
       "True"
      ]
     },
     "execution_count": 8,
     "metadata": {},
     "output_type": "execute_result"
    }
   ],
   "source": [
    "[b,g,r] = cv2.split(img)\n",
    "\n",
    "bgr_b = cv2.merge([b,g,r,b])\n",
    "bgr_g = cv2.merge([b,g,r,g])\n",
    "bgr_r = cv2.merge([b,g,r,r])\n",
    "\n",
    "cv2.imwrite(\"bgr_b.png\",bgr_b)\n",
    "cv2.imwrite(\"bgr_g.png\",bgr_g)\n",
    "cv2.imwrite(\"bgr_r.png\",bgr_r)"
   ]
  },
  {
   "cell_type": "code",
   "execution_count": null,
   "id": "322c79f5",
   "metadata": {},
   "outputs": [],
   "source": []
  }
 ],
 "metadata": {
  "kernelspec": {
   "display_name": "Python 3 (ipykernel)",
   "language": "python",
   "name": "python3"
  },
  "language_info": {
   "codemirror_mode": {
    "name": "ipython",
    "version": 3
   },
   "file_extension": ".py",
   "mimetype": "text/x-python",
   "name": "python",
   "nbconvert_exporter": "python",
   "pygments_lexer": "ipython3",
   "version": "3.10.9"
  }
 },
 "nbformat": 4,
 "nbformat_minor": 5
}
