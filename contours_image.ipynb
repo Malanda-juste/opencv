{
 "cells": [
  {
   "cell_type": "code",
   "execution_count": 1,
   "id": "3351b6c9",
   "metadata": {},
   "outputs": [],
   "source": [
    "import numpy as np\n",
    "import cv2"
   ]
  },
  {
   "cell_type": "code",
   "execution_count": 7,
   "id": "5f50d90a",
   "metadata": {},
   "outputs": [
    {
     "name": "stdout",
     "output_type": "stream",
     "text": [
      "50.0\n"
     ]
    }
   ],
   "source": [
    "# importation de l'image\n",
    "img = cv2.imread(\"./data/cameraman.png\", 0)\n",
    "cv2.imshow(\"origine\", img)\n",
    "\n",
    "h, w = img.shape[0:2]\n",
    "\n",
    "binary = np.zeros([h, w, 1], 'uint8')\n",
    "\n",
    "tresh =50\n",
    "for row in range(0,h):\n",
    "    for col in range(0, w):\n",
    "        if img[row][col]>tresh:\n",
    "            binary[row][col]=255\n",
    "        \n",
    "cv2.imshow(\"tresh\", binary)\n",
    "\n",
    "\n",
    "ret, thresh = cv2.threshold(img, tresh, 255, cv2.THRESH_BINARY)\n",
    "print(ret)\n",
    "cv2.imshow(\"thresh\", thresh)\n",
    "\n",
    "thresh_2 = cv2.adaptiveThreshold(img, 255, cv2.ADAPTIVE_THRESH_GAUSSIAN_C, cv2.THRESH_BINARY, 111, 1)\n",
    "cv2.imshow(\"thresh adaptive\", thresh_2)\n",
    "\n",
    "\n",
    "\n",
    "\n",
    "cv2.waitKey(0)\n",
    "cv2.destroyAllWindows()"
   ]
  },
  {
   "cell_type": "code",
   "execution_count": null,
   "id": "c482c34d",
   "metadata": {},
   "outputs": [],
   "source": []
  }
 ],
 "metadata": {
  "kernelspec": {
   "display_name": "Python 3 (ipykernel)",
   "language": "python",
   "name": "python3"
  },
  "language_info": {
   "codemirror_mode": {
    "name": "ipython",
    "version": 3
   },
   "file_extension": ".py",
   "mimetype": "text/x-python",
   "name": "python",
   "nbconvert_exporter": "python",
   "pygments_lexer": "ipython3",
   "version": "3.10.9"
  }
 },
 "nbformat": 4,
 "nbformat_minor": 5
}
