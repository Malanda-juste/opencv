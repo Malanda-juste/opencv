{
 "cells": [
  {
   "cell_type": "code",
   "execution_count": 1,
   "id": "a8a0ecba",
   "metadata": {},
   "outputs": [],
   "source": [
    "import cv2\n",
    "import numpy as np"
   ]
  },
  {
   "cell_type": "code",
   "execution_count": 7,
   "id": "426c7c6b",
   "metadata": {},
   "outputs": [],
   "source": [
    "img = cv2.imread(\"./data/face_2.jpg\",1)\n",
    "gray = cv2.cvtColor(img, cv2.COLOR_BGR2GRAY)\n",
    "\n",
    "face_detection = \"./face_detection/haarcascade_frontalface_default.xml\"\n",
    "eye_detection = \"./face_detection/haarcascade_eye.xml\"\n",
    "\n",
    "faces_cascade = cv2.CascadeClassifier(face_detection)\n",
    "eyes_cascade = cv2.CascadeClassifier(eye_detection)\n",
    "\n",
    "faces = faces_cascade.detectMultiScale(gray, scaleFactor=1.10, minNeighbors=4, minSize=(40,40))\n",
    "eyes = eyes_cascade.detectMultiScale(gray, scaleFactor=1.02, minNeighbors=20, minSize=(10,10))\n",
    "\n",
    "for (x,y,h,w) in faces:\n",
    "    cv2.rectangle(img, (x,y), (x+w,y+h), (0,255,0), 2)\n",
    "    \n",
    "for (x,y,h,w) in eyes:\n",
    "    xc = (x +x+w)/2\n",
    "    yc = (y+y+h)/2\n",
    "    residus = w/2\n",
    "    cv2.circle(img,(int(xc), int(yc)), int(residus), (0,255,0), 2)\n",
    "    \n",
    "cv2.imshow(\"image\", img)\n",
    "cv2.waitKey(0)\n",
    "cv2.destroyAllWindows()"
   ]
  },
  {
   "cell_type": "code",
   "execution_count": null,
   "id": "0561a9eb",
   "metadata": {},
   "outputs": [],
   "source": []
  }
 ],
 "metadata": {
  "kernelspec": {
   "display_name": "Python 3 (ipykernel)",
   "language": "python",
   "name": "python3"
  },
  "language_info": {
   "codemirror_mode": {
    "name": "ipython",
    "version": 3
   },
   "file_extension": ".py",
   "mimetype": "text/x-python",
   "name": "python",
   "nbconvert_exporter": "python",
   "pygments_lexer": "ipython3",
   "version": "3.10.9"
  }
 },
 "nbformat": 4,
 "nbformat_minor": 5
}
