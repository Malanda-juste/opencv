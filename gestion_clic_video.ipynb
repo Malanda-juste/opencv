{
 "cells": [
  {
   "cell_type": "code",
   "execution_count": 1,
   "id": "81c4ece8",
   "metadata": {},
   "outputs": [],
   "source": [
    "import cv2\n",
    "import numpy as np"
   ]
  },
  {
   "cell_type": "code",
   "execution_count": 3,
   "id": "6751e0af",
   "metadata": {},
   "outputs": [],
   "source": [
    "color =(0,0,255)\n",
    "\n",
    "point_1 =(100, 50)\n",
    "point_2 =(200, 150)\n",
    "\n",
    "line_widht = 3\n"
   ]
  },
  {
   "cell_type": "code",
   "execution_count": 7,
   "id": "db9ed8be",
   "metadata": {},
   "outputs": [
    {
     "name": "stdout",
     "output_type": "stream",
     "text": [
      "pressed :  284 187\n",
      "pressed :  299 101\n",
      "pressed :  85 106\n",
      "pressed :  246 68\n",
      "pressed :  198 205\n",
      "pressed :  267 94\n",
      "pressed :  72 59\n",
      "pressed :  57 47\n",
      "pressed :  102 26\n",
      "pressed :  63 25\n",
      "pressed :  263 104\n",
      "pressed :  213 119\n",
      "pressed :  188 117\n"
     ]
    }
   ],
   "source": [
    "cap = cv2.VideoCapture(\"./data/2165-155327596_small.mp4\")\n",
    "\n",
    "def clic(event, x, y, flags, param):\n",
    "    global point_1, point_2, pressed\n",
    "    \n",
    "    if event == cv2.EVENT_LBUTTONDOWN:\n",
    "        print(\"pressed : \", x,y)\n",
    "        point_1 = (x,y)\n",
    "        point_2 =(x+100, y+150)\n",
    "cv2.namedWindow(\"image\")\n",
    "cv2.setMouseCallback(\"image\", clic)\n",
    "\n",
    "\n",
    "while(True):\n",
    "    ret, frame = cap.read()\n",
    "    if not ret:\n",
    "        break\n",
    "        \n",
    "    frame =cv2.resize(frame,(0,0), fx=0.6, fy=0.6)\n",
    "    cv2.rectangle(frame, point_1, point_2, color, line_widht)\n",
    "    \n",
    "    \n",
    "\n",
    "    cv2.imshow(\"image\", frame)\n",
    "    cv2.moveWindow(\"image\", 0,0)\n",
    "    \n",
    "    ch = cv2.waitKey(30)\n",
    "    if ch & 0xFF == ord('q'):\n",
    "        break\n",
    "\n",
    "cap.release()\n",
    "cv2.destroyAllWindows()"
   ]
  },
  {
   "cell_type": "code",
   "execution_count": null,
   "id": "ff48275b",
   "metadata": {},
   "outputs": [],
   "source": []
  },
  {
   "cell_type": "code",
   "execution_count": null,
   "id": "a6695361",
   "metadata": {},
   "outputs": [],
   "source": []
  }
 ],
 "metadata": {
  "kernelspec": {
   "display_name": "Python 3 (ipykernel)",
   "language": "python",
   "name": "python3"
  },
  "language_info": {
   "codemirror_mode": {
    "name": "ipython",
    "version": 3
   },
   "file_extension": ".py",
   "mimetype": "text/x-python",
   "name": "python",
   "nbconvert_exporter": "python",
   "pygments_lexer": "ipython3",
   "version": "3.10.9"
  }
 },
 "nbformat": 4,
 "nbformat_minor": 5
}
