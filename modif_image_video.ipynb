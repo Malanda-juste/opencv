{
 "cells": [
  {
   "cell_type": "code",
   "execution_count": 1,
   "id": "f78dc7c6",
   "metadata": {},
   "outputs": [],
   "source": [
    "import cv2\n",
    "import numpy as np"
   ]
  },
  {
   "cell_type": "markdown",
   "id": "e2e14bd0",
   "metadata": {},
   "source": [
    "# modification sur une image"
   ]
  },
  {
   "cell_type": "code",
   "execution_count": 2,
   "id": "5643b200",
   "metadata": {},
   "outputs": [],
   "source": [
    "color_1 = (0,0,255)\n",
    "color_2 = (0,255,0)\n",
    "\n",
    "point_1 = (100, 100)\n",
    "point_2 = (250, 400)\n",
    "point_3 = (100, 380)\n",
    "\n",
    "line_width = 3\n",
    "residus = 80"
   ]
  },
  {
   "cell_type": "markdown",
   "id": "b620f621",
   "metadata": {},
   "source": [
    "### importation de l'image"
   ]
  },
  {
   "cell_type": "code",
   "execution_count": 8,
   "id": "2844c638",
   "metadata": {},
   "outputs": [],
   "source": [
    "img = cv2.imread(\"./data/tourEfel.jpeg\")\n",
    "cv2.namedWindow(\"Modification\")"
   ]
  },
  {
   "cell_type": "markdown",
   "id": "5e2235d3",
   "metadata": {},
   "source": [
    "## programme"
   ]
  },
  {
   "cell_type": "code",
   "execution_count": 14,
   "id": "0f4997a7",
   "metadata": {},
   "outputs": [],
   "source": [
    "img =cv2.resize(img, (500,500))\n",
    "cv2.circle(img, point_1, residus ,color_1, line_width)\n",
    "cv2.rectangle(img, point_2, point_3, color_2, line_width)\n",
    "cv2.imshow(\"Image\", img)\n",
    "cv2.moveWindow(\"Image\", 0,0)\n",
    "\n",
    "cv2.waitKey(0)\n",
    "cv2.destroyAllWindows()"
   ]
  },
  {
   "cell_type": "markdown",
   "id": "8e0cda08",
   "metadata": {},
   "source": [
    "# Modification de la video"
   ]
  },
  {
   "cell_type": "code",
   "execution_count": 8,
   "id": "a594dee6",
   "metadata": {},
   "outputs": [],
   "source": [
    "cap = cv2.VideoCapture(\"./data/2165-155327596_small.mp4\")\n",
    "\n",
    "while(True):\n",
    "    ret, frame = cap.read()\n",
    "    if not ret:\n",
    "        break\n",
    "    frame =cv2.resize(frame,(0,0), fx=0.6, fy=0.6)\n",
    "    cv2.circle(frame, point_1, residus ,color_1, line_width)\n",
    "    cv2.rectangle(frame, point_2, point_3, color_2, line_width)\n",
    "    \n",
    "\n",
    "    cv2.imshow(\"Image\", frame)\n",
    "    cv2.moveWindow(\"Image\", 0,0)\n",
    "    \n",
    "    ch = cv2.waitKey(30)\n",
    "    if ch & 0xFF == ord('q'):\n",
    "        break\n",
    "\n",
    "cap.release()\n",
    "cv2.destroyAllWindows()\n",
    "    \n",
    "    "
   ]
  },
  {
   "cell_type": "code",
   "execution_count": 6,
   "id": "fe22b541",
   "metadata": {},
   "outputs": [],
   "source": [
    "# Charger la vidéo\n",
    "cap = cv2.VideoCapture(\"./data/2165-155327596_small.mp4\")\n",
    "\n",
    "while True:\n",
    "    ret, frame = cap.read()\n",
    "    if not ret:\n",
    "        break  # Quitter la boucle si la vidéo est terminée\n",
    "\n",
    "    # Redimensionner la frame\n",
    "    frame = cv2.resize(frame, (0, 0), fx=0.6, fy=0.6)\n",
    "\n",
    "    # Obtenir les dimensions de la frame\n",
    "    height, width, _ = frame.shape\n",
    "\n",
    "    # Définir les paramètres du rectangle\n",
    "    rect_width, rect_height = 300, 200  # Taille du rectangle\n",
    "    point_2 = (width // 2 - rect_width // 2, height // 2 - rect_height // 2)\n",
    "    point_3 = (width // 2 + rect_width // 2, height // 2 + rect_height // 2)\n",
    "    color_2 = (0, 255, 0)  # Couleur verte (en BGR)\n",
    "    line_width = 2  # Épaisseur de la ligne\n",
    "\n",
    "    # Dessiner le rectangle\n",
    "    cv2.rectangle(frame, point_2, point_3, color_2, line_width)\n",
    "\n",
    "    # Afficher la frame\n",
    "    cv2.imshow(\"Image\", frame)\n",
    "    cv2.moveWindow(\"Image\", 0, 0)\n",
    "\n",
    "    # Attendre 30 ms entre les frames\n",
    "    if cv2.waitKey(30) & 0xFF == ord('q'):\n",
    "        break\n",
    "\n",
    "cap.release()\n",
    "cv2.destroyAllWindows()\n"
   ]
  },
  {
   "cell_type": "code",
   "execution_count": null,
   "id": "f41564e6",
   "metadata": {},
   "outputs": [],
   "source": []
  }
 ],
 "metadata": {
  "kernelspec": {
   "display_name": "Python 3 (ipykernel)",
   "language": "python",
   "name": "python3"
  },
  "language_info": {
   "codemirror_mode": {
    "name": "ipython",
    "version": 3
   },
   "file_extension": ".py",
   "mimetype": "text/x-python",
   "name": "python",
   "nbconvert_exporter": "python",
   "pygments_lexer": "ipython3",
   "version": "3.10.9"
  }
 },
 "nbformat": 4,
 "nbformat_minor": 5
}
