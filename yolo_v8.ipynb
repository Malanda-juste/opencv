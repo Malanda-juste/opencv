{
 "cells": [
  {
   "cell_type": "code",
   "execution_count": 4,
   "id": "288f1a29",
   "metadata": {},
   "outputs": [],
   "source": [
    "#!pip install ultralytics"
   ]
  },
  {
   "cell_type": "code",
   "execution_count": 3,
   "id": "848e12a2",
   "metadata": {},
   "outputs": [],
   "source": [
    "import cv2\n",
    "from ultralytics import YOLO"
   ]
  },
  {
   "cell_type": "code",
   "execution_count": 5,
   "id": "3ecdee30",
   "metadata": {},
   "outputs": [
    {
     "name": "stdout",
     "output_type": "stream",
     "text": [
      "Downloading https://github.com/ultralytics/assets/releases/download/v0.0.0/yolov8l.pt to 'yolov8l.pt'...\n"
     ]
    },
    {
     "name": "stderr",
     "output_type": "stream",
     "text": [
      "100%|██████████| 83.7M/83.7M [02:16<00:00, 642kB/s] \n"
     ]
    },
    {
     "name": "stdout",
     "output_type": "stream",
     "text": [
      "\n",
      "0: 384x640 2 persons, 4 bicycles, 3 cars, 1 bus, 1 truck, 1 suitcase, 1092.9ms\n",
      "Speed: 15.7ms preprocess, 1092.9ms inference, 15.6ms postprocess per image at shape (1, 3, 384, 640)\n"
     ]
    }
   ],
   "source": [
    "img = cv2.imread(\"./data/yolo_image_1.jpg\",1)\n",
    "\n",
    "#gray = cv2.cvtColor(img, cv2.COLOR_BGR2GRAY)\n",
    "\n",
    "model = YOLO('yolov8l.pt')\n",
    "\n",
    "rs = model(img)\n",
    "\n",
    "cv2.imshow(\"img\", img)\n",
    "\n",
    "cv2.waitKey(0)\n",
    "cv2.destroyAllWindows()"
   ]
  },
  {
   "cell_type": "code",
   "execution_count": 15,
   "id": "7e606cff",
   "metadata": {},
   "outputs": [
    {
     "name": "stdout",
     "output_type": "stream",
     "text": [
      "Collecting supervision\n",
      "  Using cached supervision-0.22.0-py3-none-any.whl (135 kB)\n",
      "Collecting opencv-python-headless>=4.5.5.64\n",
      "  Using cached opencv_python_headless-4.10.0.84-cp37-abi3-win_amd64.whl (38.8 MB)\n",
      "Requirement already satisfied: defusedxml<0.8.0,>=0.7.1 in c:\\users\\elitebook\\anaconda3\\lib\\site-packages (from supervision) (0.7.1)\n",
      "Requirement already satisfied: pillow>=9.4 in c:\\users\\elitebook\\anaconda3\\lib\\site-packages (from supervision) (9.4.0)\n",
      "Requirement already satisfied: numpy>=1.21.2 in c:\\users\\elitebook\\anaconda3\\lib\\site-packages (from supervision) (1.26.4)\n",
      "Requirement already satisfied: scipy<2.0.0,>=1.10.0 in c:\\users\\elitebook\\anaconda3\\lib\\site-packages (from supervision) (1.10.0)\n",
      "Requirement already satisfied: matplotlib>=3.6.0 in c:\\users\\elitebook\\anaconda3\\lib\\site-packages (from supervision) (3.7.0)\n",
      "Requirement already satisfied: pyyaml>=5.3 in c:\\users\\elitebook\\anaconda3\\lib\\site-packages (from supervision) (6.0)\n",
      "Requirement already satisfied: cycler>=0.10 in c:\\users\\elitebook\\anaconda3\\lib\\site-packages (from matplotlib>=3.6.0->supervision) (0.11.0)\n",
      "Requirement already satisfied: pyparsing>=2.3.1 in c:\\users\\elitebook\\anaconda3\\lib\\site-packages (from matplotlib>=3.6.0->supervision) (3.0.9)\n",
      "Requirement already satisfied: contourpy>=1.0.1 in c:\\users\\elitebook\\anaconda3\\lib\\site-packages (from matplotlib>=3.6.0->supervision) (1.0.5)\n",
      "Requirement already satisfied: packaging>=20.0 in c:\\users\\elitebook\\anaconda3\\lib\\site-packages (from matplotlib>=3.6.0->supervision) (22.0)\n",
      "Requirement already satisfied: kiwisolver>=1.0.1 in c:\\users\\elitebook\\anaconda3\\lib\\site-packages (from matplotlib>=3.6.0->supervision) (1.4.4)\n",
      "Requirement already satisfied: python-dateutil>=2.7 in c:\\users\\elitebook\\anaconda3\\lib\\site-packages (from matplotlib>=3.6.0->supervision) (2.8.2)\n",
      "Requirement already satisfied: fonttools>=4.22.0 in c:\\users\\elitebook\\anaconda3\\lib\\site-packages (from matplotlib>=3.6.0->supervision) (4.25.0)\n",
      "Requirement already satisfied: six>=1.5 in c:\\users\\elitebook\\anaconda3\\lib\\site-packages (from python-dateutil>=2.7->matplotlib>=3.6.0->supervision) (1.16.0)\n",
      "Installing collected packages: opencv-python-headless, supervision\n"
     ]
    },
    {
     "name": "stderr",
     "output_type": "stream",
     "text": [
      "WARNING: Ignoring invalid distribution -rotobuf (c:\\users\\elitebook\\appdata\\roaming\\python\\python310\\site-packages)\n",
      "WARNING: Ignoring invalid distribution -rotobuf (c:\\users\\elitebook\\appdata\\roaming\\python\\python310\\site-packages)\n",
      "WARNING: Ignoring invalid distribution -rotobuf (c:\\users\\elitebook\\appdata\\roaming\\python\\python310\\site-packages)\n",
      "ERROR: Could not install packages due to an OSError: [WinError 5] Accès refusé: 'C:\\\\Users\\\\EliteBook\\\\AppData\\\\Roaming\\\\Python\\\\Python310\\\\site-packages\\\\cv2\\\\cv2.pyd'\n",
      "Check the permissions.\n",
      "\n",
      "WARNING: Ignoring invalid distribution -rotobuf (c:\\users\\elitebook\\appdata\\roaming\\python\\python310\\site-packages)\n",
      "WARNING: Ignoring invalid distribution -rotobuf (c:\\users\\elitebook\\appdata\\roaming\\python\\python310\\site-packages)\n",
      "WARNING: Ignoring invalid distribution -rotobuf (c:\\users\\elitebook\\appdata\\roaming\\python\\python310\\site-packages)\n"
     ]
    }
   ],
   "source": [
    "!pip install --user supervision"
   ]
  },
  {
   "cell_type": "code",
   "execution_count": null,
   "id": "5c6452d2",
   "metadata": {},
   "outputs": [],
   "source": []
  }
 ],
 "metadata": {
  "kernelspec": {
   "display_name": "Python 3 (ipykernel)",
   "language": "python",
   "name": "python3"
  },
  "language_info": {
   "codemirror_mode": {
    "name": "ipython",
    "version": 3
   },
   "file_extension": ".py",
   "mimetype": "text/x-python",
   "name": "python",
   "nbconvert_exporter": "python",
   "pygments_lexer": "ipython3",
   "version": "3.10.9"
  }
 },
 "nbformat": 4,
 "nbformat_minor": 5
}
